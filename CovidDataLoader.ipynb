{
 "metadata": {
  "language_info": {
   "codemirror_mode": {
    "name": "ipython",
    "version": 3
   },
   "file_extension": ".py",
   "mimetype": "text/x-python",
   "name": "python",
   "nbconvert_exporter": "python",
   "pygments_lexer": "ipython3",
   "version": "3.7.7-final"
  },
  "orig_nbformat": 2,
  "kernelspec": {
   "name": "python37764bit210aca433ef047ca828037caa5bf2d46",
   "display_name": "Python 3.7.7 64-bit"
  },
  "metadata": {
   "interpreter": {
    "hash": "aee8b7b246df8f9039afb4144a1f6fd8d2ca17a180786b69acc140d282b71a49"
   }
  }
 },
 "nbformat": 4,
 "nbformat_minor": 2,
 "cells": [
  {
   "cell_type": "code",
   "execution_count": 6,
   "metadata": {},
   "outputs": [
    {
     "output_type": "error",
     "ename": "SyntaxError",
     "evalue": "invalid syntax (<ipython-input-6-6f8d479c6c9b>, line 34)",
     "traceback": [
      "\u001b[0;36m  File \u001b[0;32m\"<ipython-input-6-6f8d479c6c9b>\"\u001b[0;36m, line \u001b[0;32m34\u001b[0m\n\u001b[0;31m    dfClean = df[['date', 'abbreviation_canton_and_fl', 'daily_tested', 'ncumul_tested', 'daily_conf', 'ncumul_conf', 'seven_day_conf', 'testRelation', 'new_hosp', 'current_icu', 'current_vent', 'daily_released', 'ncumul_released', 'daily_deceased', 'ncumul_deceased', 'seven_day_dec', 'current_isolated', 'current_quarantined_total']]\u001b[0m\n\u001b[0m          ^\u001b[0m\n\u001b[0;31mSyntaxError\u001b[0m\u001b[0;31m:\u001b[0m invalid syntax\n"
     ]
    }
   ],
   "source": [
    "import requests\n",
    "import io\n",
    "import pandas as pd\n",
    "import shutil\n",
    "import glob\n",
    "import os\n",
    "\n",
    "# List of Cantons\n",
    "cantons = ['AG', 'AI', 'AR', 'BE', 'BL', 'BS', 'FR', 'GE', 'GL', 'GR', 'JU', 'LU', 'NE', 'NW', 'OW', 'SG', 'SH', 'SO', 'SZ', 'TG', 'TI', 'UR', 'VD', 'VS', 'ZG', 'ZH']\n",
    "baseUrl = 'https://raw.githubusercontent.com/openZH/covid_19/master/fallzahlen_kanton_total_csv_v2/'\n",
    "\n",
    "\n",
    "# Load Data of all Cantons\n",
    "df = pd.DataFrame()\n",
    "for canton in cantons:\n",
    "    filename = 'COVID19_Fallzahlen_Kanton_{}_total.csv'.format(canton)\n",
    "    url = baseUrl + filename\n",
    "    print(url)\n",
    "    s=requests.get(url).content\n",
    "    dfCanton = pd.read_csv(io.StringIO(s.decode('utf-8')))\n",
    "    # Calculate Daily Numbers\n",
    "    dfCanton['daily_tested'] = dfCanton['ncumul_tested'] - dfCanton['ncumul_tested'].shift()\n",
    "    dfCanton['daily_conf'] = dfCanton['ncumul_conf'] - dfCanton['ncumul_conf'].shift()\n",
    "    dfCanton['daily_released'] = dfCanton['ncumul_released'] - dfCanton['ncumul_released'].shift()\n",
    "    dfCanton['daily_deceased'] = dfCanton['ncumul_deceased'] - dfCanton['ncumul_deceased'].shift()\n",
    "    # Calculate Test / Positive Relation\n",
    "    dfCanton['testRelation'] = dfCanton['daily_conf'] / (dfCanton['daily_conf'] + dfCanton['daily_tested'])\n",
    "    # Calculate 7 Day Means\n",
    "    dfCanton['seven_day_conf'] = dfCanton['daily_conf'].rolling(window=7).mean()\n",
    "    dfCanton['seven_day_dec'] = dfCanton['daily_deceased'].rolling(window=7).mean()\n",
    "    df = df.append(dfCanton)\n",
    "\n",
    "# Clean\n",
    "dfClean = df[['date', 'abbreviation_canton_and_fl', 'daily_tested', 'ncumul_tested', 'daily_conf', 'ncumul_conf', 'seven_day_conf', 'testRelation', 'new_hosp', 'current_icu', 'current_vent', 'daily_released', 'ncumul_released', 'daily_deceased', 'ncumul_deceased', 'seven_day_dec', 'current_isolated', 'current_quarantined_total']]\n",
    "\n",
    "dfClean.columns = ['date', 'canton', 'daily_tested', 'ncumul_tested', 'daily_conf', 'ncumul_conf', 'seven_day_conf', 'testRelation', 'new_hosp', 'current_icu', 'current_vent', 'ncumul_released', 'daily_released', 'daily_deceased', 'ncumul_deceased', 'seven_day_dec', 'current_isolated', 'current_quarantined_total']\n",
    "\n",
    "# Export\n",
    "dfClean.to_csv('CovidData.csv', index=False)"
   ]
  },
  {
   "cell_type": "code",
   "execution_count": 4,
   "metadata": {},
   "outputs": [
    {
     "output_type": "execute_result",
     "data": {
      "text/plain": [
       "           date canton  daily_tested  ncumul_tested  daily_conf  ncumul_conf  \\\n",
       "0    2020-02-26     AG           NaN            NaN         NaN          1.0   \n",
       "1    2020-02-27     AG           NaN            NaN         0.0          1.0   \n",
       "2    2020-02-28     AG           NaN            NaN         0.0          1.0   \n",
       "3    2020-02-29     AG           NaN            NaN         2.0          3.0   \n",
       "4    2020-03-01     AG           NaN            NaN         1.0          4.0   \n",
       "..          ...    ...           ...            ...         ...          ...   \n",
       "409  2021-04-11     ZH           NaN            NaN       348.0      99292.0   \n",
       "410  2021-04-12     ZH           NaN            NaN       307.0      99599.0   \n",
       "411  2021-04-13     ZH           NaN            NaN       521.0     100120.0   \n",
       "412  2021-04-14     ZH           NaN            NaN       451.0     100571.0   \n",
       "413  2021-04-15     ZH           NaN            NaN       507.0     101078.0   \n",
       "\n",
       "     testRelation  new_hosp  current_icu  current_vent  ncumul_released  \\\n",
       "0             NaN       NaN          NaN           NaN              NaN   \n",
       "1             NaN       NaN          NaN           NaN              NaN   \n",
       "2             NaN       NaN          NaN           NaN              NaN   \n",
       "3             NaN       NaN          NaN           NaN              NaN   \n",
       "4             NaN       NaN          NaN           NaN              NaN   \n",
       "..            ...       ...          ...           ...              ...   \n",
       "409           NaN       NaN         47.0          28.0              NaN   \n",
       "410           NaN       NaN         51.0          34.0              NaN   \n",
       "411           NaN       NaN         53.0          36.0              NaN   \n",
       "412           NaN       NaN         52.0          34.0              NaN   \n",
       "413           NaN       NaN         56.0          37.0              NaN   \n",
       "\n",
       "     daily_released  daily_deceased  ncumul_deceased  current_isolated  \\\n",
       "0               NaN             NaN              0.0               NaN   \n",
       "1               NaN             0.0              0.0               NaN   \n",
       "2               NaN             0.0              0.0               NaN   \n",
       "3               NaN             0.0              0.0               NaN   \n",
       "4               NaN             0.0              0.0               NaN   \n",
       "..              ...             ...              ...               ...   \n",
       "409             NaN             3.0           1354.0               NaN   \n",
       "410             NaN             1.0           1355.0            2819.0   \n",
       "411             NaN             1.0           1356.0            3217.0   \n",
       "412             NaN             0.0           1356.0            3217.0   \n",
       "413             NaN             0.0           1356.0            3518.0   \n",
       "\n",
       "     current_quarantined_total  \n",
       "0                          NaN  \n",
       "1                          NaN  \n",
       "2                          NaN  \n",
       "3                          NaN  \n",
       "4                          NaN  \n",
       "..                         ...  \n",
       "409                        NaN  \n",
       "410                        NaN  \n",
       "411                        NaN  \n",
       "412                        NaN  \n",
       "413                        NaN  \n",
       "\n",
       "[9895 rows x 16 columns]"
      ],
      "text/html": "<div>\n<style scoped>\n    .dataframe tbody tr th:only-of-type {\n        vertical-align: middle;\n    }\n\n    .dataframe tbody tr th {\n        vertical-align: top;\n    }\n\n    .dataframe thead th {\n        text-align: right;\n    }\n</style>\n<table border=\"1\" class=\"dataframe\">\n  <thead>\n    <tr style=\"text-align: right;\">\n      <th></th>\n      <th>date</th>\n      <th>canton</th>\n      <th>daily_tested</th>\n      <th>ncumul_tested</th>\n      <th>daily_conf</th>\n      <th>ncumul_conf</th>\n      <th>testRelation</th>\n      <th>new_hosp</th>\n      <th>current_icu</th>\n      <th>current_vent</th>\n      <th>ncumul_released</th>\n      <th>daily_released</th>\n      <th>daily_deceased</th>\n      <th>ncumul_deceased</th>\n      <th>current_isolated</th>\n      <th>current_quarantined_total</th>\n    </tr>\n  </thead>\n  <tbody>\n    <tr>\n      <th>0</th>\n      <td>2020-02-26</td>\n      <td>AG</td>\n      <td>NaN</td>\n      <td>NaN</td>\n      <td>NaN</td>\n      <td>1.0</td>\n      <td>NaN</td>\n      <td>NaN</td>\n      <td>NaN</td>\n      <td>NaN</td>\n      <td>NaN</td>\n      <td>NaN</td>\n      <td>NaN</td>\n      <td>0.0</td>\n      <td>NaN</td>\n      <td>NaN</td>\n    </tr>\n    <tr>\n      <th>1</th>\n      <td>2020-02-27</td>\n      <td>AG</td>\n      <td>NaN</td>\n      <td>NaN</td>\n      <td>0.0</td>\n      <td>1.0</td>\n      <td>NaN</td>\n      <td>NaN</td>\n      <td>NaN</td>\n      <td>NaN</td>\n      <td>NaN</td>\n      <td>NaN</td>\n      <td>0.0</td>\n      <td>0.0</td>\n      <td>NaN</td>\n      <td>NaN</td>\n    </tr>\n    <tr>\n      <th>2</th>\n      <td>2020-02-28</td>\n      <td>AG</td>\n      <td>NaN</td>\n      <td>NaN</td>\n      <td>0.0</td>\n      <td>1.0</td>\n      <td>NaN</td>\n      <td>NaN</td>\n      <td>NaN</td>\n      <td>NaN</td>\n      <td>NaN</td>\n      <td>NaN</td>\n      <td>0.0</td>\n      <td>0.0</td>\n      <td>NaN</td>\n      <td>NaN</td>\n    </tr>\n    <tr>\n      <th>3</th>\n      <td>2020-02-29</td>\n      <td>AG</td>\n      <td>NaN</td>\n      <td>NaN</td>\n      <td>2.0</td>\n      <td>3.0</td>\n      <td>NaN</td>\n      <td>NaN</td>\n      <td>NaN</td>\n      <td>NaN</td>\n      <td>NaN</td>\n      <td>NaN</td>\n      <td>0.0</td>\n      <td>0.0</td>\n      <td>NaN</td>\n      <td>NaN</td>\n    </tr>\n    <tr>\n      <th>4</th>\n      <td>2020-03-01</td>\n      <td>AG</td>\n      <td>NaN</td>\n      <td>NaN</td>\n      <td>1.0</td>\n      <td>4.0</td>\n      <td>NaN</td>\n      <td>NaN</td>\n      <td>NaN</td>\n      <td>NaN</td>\n      <td>NaN</td>\n      <td>NaN</td>\n      <td>0.0</td>\n      <td>0.0</td>\n      <td>NaN</td>\n      <td>NaN</td>\n    </tr>\n    <tr>\n      <th>...</th>\n      <td>...</td>\n      <td>...</td>\n      <td>...</td>\n      <td>...</td>\n      <td>...</td>\n      <td>...</td>\n      <td>...</td>\n      <td>...</td>\n      <td>...</td>\n      <td>...</td>\n      <td>...</td>\n      <td>...</td>\n      <td>...</td>\n      <td>...</td>\n      <td>...</td>\n      <td>...</td>\n    </tr>\n    <tr>\n      <th>409</th>\n      <td>2021-04-11</td>\n      <td>ZH</td>\n      <td>NaN</td>\n      <td>NaN</td>\n      <td>348.0</td>\n      <td>99292.0</td>\n      <td>NaN</td>\n      <td>NaN</td>\n      <td>47.0</td>\n      <td>28.0</td>\n      <td>NaN</td>\n      <td>NaN</td>\n      <td>3.0</td>\n      <td>1354.0</td>\n      <td>NaN</td>\n      <td>NaN</td>\n    </tr>\n    <tr>\n      <th>410</th>\n      <td>2021-04-12</td>\n      <td>ZH</td>\n      <td>NaN</td>\n      <td>NaN</td>\n      <td>307.0</td>\n      <td>99599.0</td>\n      <td>NaN</td>\n      <td>NaN</td>\n      <td>51.0</td>\n      <td>34.0</td>\n      <td>NaN</td>\n      <td>NaN</td>\n      <td>1.0</td>\n      <td>1355.0</td>\n      <td>2819.0</td>\n      <td>NaN</td>\n    </tr>\n    <tr>\n      <th>411</th>\n      <td>2021-04-13</td>\n      <td>ZH</td>\n      <td>NaN</td>\n      <td>NaN</td>\n      <td>521.0</td>\n      <td>100120.0</td>\n      <td>NaN</td>\n      <td>NaN</td>\n      <td>53.0</td>\n      <td>36.0</td>\n      <td>NaN</td>\n      <td>NaN</td>\n      <td>1.0</td>\n      <td>1356.0</td>\n      <td>3217.0</td>\n      <td>NaN</td>\n    </tr>\n    <tr>\n      <th>412</th>\n      <td>2021-04-14</td>\n      <td>ZH</td>\n      <td>NaN</td>\n      <td>NaN</td>\n      <td>451.0</td>\n      <td>100571.0</td>\n      <td>NaN</td>\n      <td>NaN</td>\n      <td>52.0</td>\n      <td>34.0</td>\n      <td>NaN</td>\n      <td>NaN</td>\n      <td>0.0</td>\n      <td>1356.0</td>\n      <td>3217.0</td>\n      <td>NaN</td>\n    </tr>\n    <tr>\n      <th>413</th>\n      <td>2021-04-15</td>\n      <td>ZH</td>\n      <td>NaN</td>\n      <td>NaN</td>\n      <td>507.0</td>\n      <td>101078.0</td>\n      <td>NaN</td>\n      <td>NaN</td>\n      <td>56.0</td>\n      <td>37.0</td>\n      <td>NaN</td>\n      <td>NaN</td>\n      <td>0.0</td>\n      <td>1356.0</td>\n      <td>3518.0</td>\n      <td>NaN</td>\n    </tr>\n  </tbody>\n</table>\n<p>9895 rows × 16 columns</p>\n</div>"
     },
     "metadata": {},
     "execution_count": 4
    }
   ],
   "source": [
    "dfClean"
   ]
  },
  {
   "cell_type": "code",
   "execution_count": null,
   "metadata": {},
   "outputs": [],
   "source": []
  }
 ]
}