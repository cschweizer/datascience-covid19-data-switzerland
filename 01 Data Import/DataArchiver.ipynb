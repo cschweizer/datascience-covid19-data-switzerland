{
 "cells": [
  {
   "cell_type": "code",
   "execution_count": null,
   "metadata": {},
   "outputs": [],
   "source": [
    "import pandas as pd\n",
    "import requests\n",
    "import io\n",
    "\n",
    "# Get the latest File\n",
    "url = 'https://raw.githubusercontent.com/cschweizer/datascience-covid19-data-switzerland/master/CovidData.csv'\n",
    "s = requests.get(url).content\n",
    "df = pd.read_csv(io.StringIO(s.decode('utf-8')))\n",
    "\n",
    "# Save to CSV\n",
    "today = pd.to_datetime(\"today\")\n",
    "df.to_csv('Data/Covid/' + str(today.year) + str(f\"{today:%m}\") + str(f\"{today:%d}\") + '.csv', index=False)"
   ]
  }
 ],
 "metadata": {
  "language_info": {
   "name": "python"
  },
  "orig_nbformat": 4
 },
 "nbformat": 4,
 "nbformat_minor": 2
}
