{
 "cells": [
  {
   "cell_type": "markdown",
   "metadata": {},
   "source": [
    "# Import Data from source\n",
    "\n",
    "Imports Data from openZH Dataset (https://github.com/openZH/covid_19). The Covid Numbers are separated per Canton in different Files."
   ]
  },
  {
   "cell_type": "code",
   "execution_count": 1,
   "metadata": {},
   "outputs": [
    {
     "name": "stdout",
     "output_type": "stream",
     "text": [
      "Imported days: 692\n",
      "First Date: 2020-01-01 00:00:00\n",
      "Last Date: 2021-11-23 00:00:00\n"
     ]
    }
   ],
   "source": [
    "import requests\n",
    "import io\n",
    "import pandas as pd\n",
    "import shutil\n",
    "import glob\n",
    "import os\n",
    "\n",
    "# List of Cantons\n",
    "cantons = ['AG', 'AI', 'AR', 'BE', 'BL', 'BS', 'FR', 'GE', 'GL', 'GR', 'JU', 'LU', 'NE', 'NW', 'OW', 'SG', 'SH', 'SO', 'SZ', 'TG', 'TI', 'UR', 'VD', 'VS', 'ZG', 'ZH']\n",
    "baseUrl = 'https://raw.githubusercontent.com/openZH/covid_19/master/fallzahlen_kanton_total_csv_v2/'\n",
    "\n",
    "\n",
    "# Load Data of all Cantons\n",
    "df = pd.DataFrame()\n",
    "for canton in cantons:\n",
    "    filename = 'COVID19_Fallzahlen_Kanton_{}_total.csv'.format(canton)\n",
    "    url = baseUrl + filename\n",
    "    # print(url)\n",
    "    s=requests.get(url).content\n",
    "    dfCanton = pd.read_csv(io.StringIO(s.decode('utf-8')))\n",
    "    dfCanton['date'] = pd.to_datetime(dfCanton['date'])\n",
    "    # Calculate Daily Numbers\n",
    "    dfCanton['daily_tested'] = dfCanton['ncumul_tested'] - dfCanton['ncumul_tested'].shift()\n",
    "    dfCanton['daily_conf'] = dfCanton['ncumul_conf'] - dfCanton['ncumul_conf'].shift()\n",
    "    dfCanton['daily_released'] = dfCanton['ncumul_released'] - dfCanton['ncumul_released'].shift()\n",
    "    dfCanton['daily_deceased'] = dfCanton['ncumul_deceased'] - dfCanton['ncumul_deceased'].shift()\n",
    "    # Calculate Test / Positive Relation\n",
    "    dfCanton['testRelation'] = dfCanton['daily_conf'] / (dfCanton['daily_conf'] + dfCanton['daily_tested'])\n",
    "    # Calculate 7 Day Means\n",
    "    dfCanton['seven_day_conf'] = dfCanton['daily_conf'].rolling(window=7).mean()\n",
    "    dfCanton['seven_day_dec'] = dfCanton['daily_deceased'].rolling(window=7).mean()\n",
    "    df = df.append(dfCanton)\n",
    "\n",
    "# Clean\n",
    "dfClean = df[['date', 'abbreviation_canton_and_fl', 'daily_tested', 'ncumul_tested', 'daily_conf', 'ncumul_conf', 'seven_day_conf', 'testRelation', 'new_hosp', 'current_icu', 'current_vent', 'daily_released', 'ncumul_released', 'daily_deceased', 'ncumul_deceased', 'seven_day_dec', 'current_isolated', 'current_quarantined_total']]\n",
    "\n",
    "dfClean.columns = ['date', 'canton', 'daily_tested', 'ncumul_tested', 'daily_conf', 'ncumul_conf', 'seven_day_conf', 'testRelation', 'new_hosp', 'current_icu', 'current_vent', 'ncumul_released', 'daily_released', 'daily_deceased', 'ncumul_deceased', 'seven_day_dec', 'current_isolated', 'current_quarantined_total']\n",
    "\n",
    "# Export\n",
    "dfClean.to_csv('../Data/CovidData.csv', index=False)\n",
    "\n",
    "dateOldest = min(dfClean.date)\n",
    "dateNewest = max(dfClean.date)\n",
    "print(\"Imported days: \" + str((dateNewest - dateOldest).days))\n",
    "print(\"First Date: \" + str(dateOldest))\n",
    "print(\"Last Date: \" + str(dateNewest))"
   ]
  },
  {
   "cell_type": "markdown",
   "metadata": {},
   "source": [
    "# Save a copy to Archive Folder"
   ]
  },
  {
   "cell_type": "code",
   "execution_count": 2,
   "metadata": {},
   "outputs": [],
   "source": [
    "# Save to CSV\n",
    "today = pd.to_datetime(\"today\")\n",
    "dfClean.to_csv('../Data/Archive/' + str(today.year) + str(f\"{today:%m}\") + str(f\"{today:%d}\") + '.csv', index=False)"
   ]
  }
 ],
 "metadata": {
  "interpreter": {
   "hash": "cd8ecad4a3d0f3829bb7324c82bbc3fe0c2662168201510cc7d32ec6fb3bf31c"
  },
  "kernelspec": {
   "display_name": "Python 3.8.1 64-bit ('.venv': venv)",
   "name": "python3"
  },
  "language_info": {
   "codemirror_mode": {
    "name": "ipython",
    "version": 3
   },
   "file_extension": ".py",
   "mimetype": "text/x-python",
   "name": "python",
   "nbconvert_exporter": "python",
   "pygments_lexer": "ipython3",
   "version": "3.8.1"
  },
  "metadata": {
   "interpreter": {
    "hash": "aee8b7b246df8f9039afb4144a1f6fd8d2ca17a180786b69acc140d282b71a49"
   }
  },
  "orig_nbformat": 2
 },
 "nbformat": 4,
 "nbformat_minor": 2
}
